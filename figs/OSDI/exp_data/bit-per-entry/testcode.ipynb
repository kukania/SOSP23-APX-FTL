{
 "cells": [
  {
   "cell_type": "code",
   "execution_count": 6,
   "id": "careful-double",
   "metadata": {},
   "outputs": [
    {
     "name": "stdout",
     "output_type": "stream",
     "text": [
      "[ 1  2  3  4  5  6  7  8  9 10 11 12 13 14 15 16 17 18 19 20 21 22 23 24\n",
      " 25 26 27 28 29 30 31 32 33 34 35 36 37 38 39 40 41 42 43 44 45 46 47 48\n",
      " 49 50 51 52]\n",
      "[23.23 22.32 18.62 13.27  8.98  6.71  5.84  5.44  5.19  5.01  4.88  4.8\n",
      "  4.75  4.72  4.69  4.67  4.63  4.58  4.53  4.48  4.44  4.4   4.36  4.32\n",
      "  4.29  4.26  4.23  4.2   4.18  4.15  4.13  4.11  4.09  4.07  4.05  4.03\n",
      "  4.02  4.    3.98  3.97  3.95  3.94  3.93  3.92  3.9   3.89  3.88  3.87\n",
      "  3.86  3.85  3.84  3.83]\n",
      "[7.4 7.4 7.4 7.4 7.4 7.4 7.4 7.4 7.4 7.4 7.4 7.4 7.4 7.4 7.4 7.4 7.4 7.4\n",
      " 7.4 7.4 7.4 7.4 7.4 7.4 7.4 7.4 7.4 7.4 7.4 7.4 7.4 7.4 7.4 7.4 7.4 7.4\n",
      " 7.4 7.4 7.4 7.4 7.4 7.4 7.4 7.4 7.4 7.4 7.4 7.4 7.4 7.4 7.4 7.4]\n"
     ]
    },
    {
     "name": "stderr",
     "output_type": "stream",
     "text": [
      "<ipython-input-6-111b9d0c5806>:90: UserWarning: You have mixed positional and keyword arguments, some input may be discarded.\n",
      "  plt.legend([OURS,BF], labels=[\"PLR\",\"BF\", \"PLR-ORIG\"], frameon=False,loc=\"upper center\", bbox_to_anchor=(0.48, 1.23),ncol=3, handlelength=1, columnspacing=1, handletextpad=0.2,fontsize=20)\n"
     ]
    },
    {
     "data": {
      "image/png": "[encoded data removed]",
      "text/plain": [
       "<Figure size 288x272.52 with 1 Axes>"
      ]
     },
     "metadata": {
      "needs_background": "light"
     },
     "output_type": "display_data"
    }
   ],
   "source": [
    "import pandas as pd\n",
    "import numpy as np\n",
    "import matplotlib.pyplot as plt\n",
    "#from brokenaxes import brokenaxes \n",
    "from matplotlib.font_manager import FontProperties\n",
    "import matplotlib\n",
    "import matplotlib as mat\n",
    "###해당 부분은 입력해주셔야하는 부분입니다.\n",
    "###xlsx 파일의 경우 양식에 맞추어 작성해주세요!! \n",
    "\n",
    "\n",
    "\n",
    "\n",
    "#workload의 개수 입력, workname_list는 각각의 workload name을 작성.  \n",
    "workload_num = 1\n",
    "workname_list = [\"BF-PLR\"] #반드시 workname_list elem 개수와 workload num이 일치해야함. \n",
    "#workname_list = [\"TPC-H\"]\n",
    "result_path =\"data.xlsx\" #분석위한 xlsx파일 path 입력\n",
    "#sheet_name = \"16_fio\"#분석할 sheet name 입력 \n",
    "sheet_name = \"new_data\"\n",
    "output_path = \"\" # default: \"\"\n",
    "output_name = \"OURS-BF-PLR\" \n",
    "#output_name = \"TPCH\"\n",
    "\n",
    "def extract_xy(idx, path, sheet_name):\n",
    "\tstart_int = 2\n",
    "\tdf_from_excel = pd.read_excel(path,\n",
    "\t\t\t\t\t\t\t  sheet_name = sheet_name,\n",
    "\t\t\t\t\t\t\t  header = 2,\n",
    "\t\t\t\t\t\t\t  usecols=[start_int,start_int+1, start_int+2, start_int+3]\n",
    "\t\t\t\t\t)\n",
    "\tx = np.array(df_from_excel[\"density\"])\n",
    "\ty1 = np.array(df_from_excel[\"OURS\"])\t\t\n",
    "\ty2 = np.array(df_from_excel['BF'])\n",
    "\ty3 = np.array(df_from_excel['PLR'])\n",
    "\treturn x, y1, y2, y3\n",
    "\n",
    "x, y1, y2, y3 = extract_xy(\"0\", result_path, sheet_name)\n",
    "\n",
    "print(x)\n",
    "print(y1)\n",
    "print(y2)\n",
    "#일단 넣어놓은 코드 \n",
    "#font = FontProperties()\n",
    "#font.set_family('serif')\n",
    "#font.set_name('Droid Sans')\n",
    "\n",
    "#figure size=(16,4) subgraph가 4개이기 때문에 각각 4,4로 크기 맞추기 위해 설정\n",
    "fig = plt.figure(figsize=(4,3.785))\n",
    "fsize = 25.5\n",
    "matplotlib.rc('axes', linewidth=2.5)\n",
    "font = \"Times New Roman\"\n",
    "#font = \"Helvetica\"\n",
    "csfont = {'fontname':'Times New Roman'}\n",
    "\n",
    "#import matplotlib.pyplot as plt\n",
    "plt.rcParams[\"font.family\"] = \"Times New Roman\"\n",
    "#plt.rcParams['font.family'] = 'DeJavu Serif'\n",
    "plt.rcParams['font.serif'] = ['Times New Roman']\n",
    "# mat.rcParams[\"font.family\"] = \"Times New Roman\"\n",
    "\n",
    "\"\"\"\n",
    "mat.rcParams[\"font.family\"] = \"Times New Roman\"\n",
    "\n",
    "if font == \"Times New Roman\":\n",
    "    plt.rcParams[\"font.family\"] = \"Times New Roman\"\n",
    "    mat.rcParams['font.family'] = 'serif'\n",
    "    #plt.rcParams['font.serif'] = ['Times New Roman']\n",
    "    mat.rcParams['font.serif'] = ['Times New Roman'] + plt.rcParams['font.serif']\n",
    "\"\"\"\n",
    "\n",
    "\n",
    "OURS = plt.plot(x, y1, linewidth=1.5, color=\"midnightblue\", markerfacecolor=\"None\",marker='v', markersize=11, markevery=[0,12,24,36,48])\n",
    "BF = plt.plot(x, y2, linewidth=1.5, color=\"green\", markerfacecolor=\"None\",marker='o', markersize=11, markevery=[0,12,24,36,48])\n",
    "PLR = plt.plot(x, y3, linewidth=1.5, color=\"orangered\", markerfacecolor=\"None\",marker='^', markersize=11, markevery=[0,12,24,36,48])\n",
    "#subplot 생성, 4개, 각 subplot draw object를 sub_list에 넣음\n",
    "plt.xlabel(\"Run size\", fontsize=fsize)\n",
    "plt.ylabel(\"Bits-per-entry\", fontsize=fsize)\n",
    "plt.xlim([1,50])\n",
    "plt.ylim([0,25])\n",
    "plt.yticks([0,10,20], fontsize=fsize, x=-0.015)\n",
    "plt.xticks([1,25,50],[\"1x\", \"25x\", \"50x\"], fontsize=fsize, y=-0.015)\n",
    "#plt.xtickslabel([0,5,10,15,20])\n",
    "plt.grid(axis='y', color='grey',linestyle='--',linewidth=1.2,zorder=0)\n",
    "plt.rc('axes', axisbelow=True)\n",
    "\n",
    "plt.tick_params(axis='y',direction='in', right=True)\n",
    "plt.tick_params(axis='x', direction='in')\n",
    "\n",
    "plt.legend([OURS,BF], labels=[\"PLR\",\"BF\", \"PLR-ORIG\"], frameon=False,loc=\"upper center\", bbox_to_anchor=(0.48, 1.23),ncol=3, handlelength=1, columnspacing=1, handletextpad=0.2,fontsize=20)\n",
    "#fig.legend(tmp_list[:6], labels=[\"PAGE\",\"COARSE\",\"FINE\",\"SFTL\", \"TPFTL\", \"APPX\"], frameon=False,loc=\"lower right\", bbox_to_anchor=(0.91,0.09),ncol=1, fontsize=13)\n",
    "plt.draw()\n",
    "\n",
    "plt.savefig(output_path+output_name+\".eps\", format='eps', dpi=600, bbox_inches = \"tight\")\n",
    "plt.savefig(output_path+output_name+\".png\", format='png', dpi=600, bbox_inches = \"tight\")\n"
   ]
  },
  {
   "cell_type": "code",
   "execution_count": null,
   "id": "english-dayton",
   "metadata": {},
   "outputs": [],
   "source": []
  }
 ],
 "metadata": {
  "kernelspec": {
   "display_name": "Python 3",
   "language": "python",
   "name": "python3"
  },
  "language_info": {
   "codemirror_mode": {
    "name": "ipython",
    "version": 3
   },
   "file_extension": ".py",
   "mimetype": "text/x-python",
   "name": "python",
   "nbconvert_exporter": "python",
   "pygments_lexer": "ipython3",
   "version": "3.8.10"
  }
 },
 "nbformat": 4,
 "nbformat_minor": 5
}
